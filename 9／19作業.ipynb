{
 "cells": [
  {
   "cell_type": "code",
   "execution_count": 21,
   "id": "0ecb9fec",
   "metadata": {},
   "outputs": [
    {
     "name": "stdout",
     "output_type": "stream",
     "text": [
      "3\n"
     ]
    }
   ],
   "source": [
    "fruit=[2,3,4] #建立一個數字串列\n",
    "print(len(fruit)) #列印串列的長度"
   ]
  },
  {
   "cell_type": "code",
   "execution_count": 22,
   "id": "c517e811",
   "metadata": {
    "scrolled": true
   },
   "outputs": [
    {
     "name": "stdout",
     "output_type": "stream",
     "text": [
      "[2, 3, 4, 1]\n"
     ]
    }
   ],
   "source": [
    "fruit=[2,3,4,1] #在串列的末尾新增一個數字\n",
    "print(fruit) #列印串列"
   ]
  },
  {
   "cell_type": "code",
   "execution_count": 23,
   "id": "b9b20a07",
   "metadata": {},
   "outputs": [
    {
     "name": "stdout",
     "output_type": "stream",
     "text": [
      "[3, 4, 1]\n"
     ]
    }
   ],
   "source": [
    "fruit=[3,4,1] #從串列中移除第一個數字\n",
    "print(fruit) #列印串列"
   ]
  },
  {
   "cell_type": "code",
   "execution_count": 20,
   "id": "dc406903",
   "metadata": {},
   "outputs": [
    {
     "name": "stdout",
     "output_type": "stream",
     "text": [
      "[1, 3, 4]\n"
     ]
    }
   ],
   "source": [
    "fruit=[1,3,4] \n",
    "fruit.sort()#將串列排序為升序\n",
    "print(fruit) #列印串列"
   ]
  },
  {
   "cell_type": "code",
   "execution_count": 24,
   "id": "091e707f",
   "metadata": {},
   "outputs": [
    {
     "name": "stdout",
     "output_type": "stream",
     "text": [
      "[4, 3, 1]\n"
     ]
    }
   ],
   "source": [
    "fruit=[4,3,1] \n",
    "fruit.sort(reverse=True)#反轉串列\n",
    "print(fruit) #列印串列"
   ]
  },
  {
   "cell_type": "code",
   "execution_count": 19,
   "id": "9e1f037e",
   "metadata": {},
   "outputs": [
    {
     "data": {
      "text/plain": [
       "(1, 2, 3)"
      ]
     },
     "execution_count": 19,
     "metadata": {},
     "output_type": "execute_result"
    }
   ],
   "source": [
    "homework=(1,2,3) #建立一個數字元組\n",
    "print(homework) #列印元組"
   ]
  },
  {
   "cell_type": "code",
   "execution_count": 16,
   "id": "ea002324",
   "metadata": {},
   "outputs": [
    {
     "name": "stdout",
     "output_type": "stream",
     "text": [
      "No, 4 is not a programming language\n"
     ]
    }
   ],
   "source": [
    "homework=(1,2,3) #元組\n",
    "if 4 in homework:print(\"Yes, 4 is a programming language\") #如4在元組中，打後面這段話\n",
    "if 4 not in homework:print(\"No, 4 is not a programming language\") #如4不在元組中，打後面這段話"
   ]
  },
  {
   "cell_type": "code",
   "execution_count": 18,
   "id": "4e5e85b8",
   "metadata": {},
   "outputs": [
    {
     "data": {
      "text/plain": [
       "(1, 2)"
      ]
     },
     "execution_count": 18,
     "metadata": {},
     "output_type": "execute_result"
    }
   ],
   "source": [
    "homework=(1,2,3) #元組\n",
    "homework[0:2] #取得元組的切片"
   ]
  },
  {
   "cell_type": "code",
   "execution_count": 25,
   "id": "f9810dd5",
   "metadata": {},
   "outputs": [
    {
     "name": "stdout",
     "output_type": "stream",
     "text": [
      "1\n"
     ]
    }
   ],
   "source": [
    "fruit=[4,3,1] \n",
    "print(fruit.index(3)) #在串列中尋找3的索引"
   ]
  },
  {
   "cell_type": "code",
   "execution_count": 26,
   "id": "1f776b99",
   "metadata": {},
   "outputs": [
    {
     "name": "stdout",
     "output_type": "stream",
     "text": [
      "Yes, 4 is a list\n"
     ]
    }
   ],
   "source": [
    "fruit=[4,3,1]  #串列\n",
    "if 4 in fruit:print(\"Yes, 4 is a list\") #如4在串列中，打後面這段話\n",
    "if 4 not in fruit:print(\"No, 4 is not a list\") #如4不在串列中，打後面這段話"
   ]
  },
  {
   "cell_type": "code",
   "execution_count": 33,
   "id": "9e6518ae",
   "metadata": {},
   "outputs": [
    {
     "data": {
      "text/plain": [
       "[1, 2]"
      ]
     },
     "execution_count": 33,
     "metadata": {},
     "output_type": "execute_result"
    }
   ],
   "source": [
    "a = [0, 1, 2, 3, 4, 'last'] #串列\n",
    "a[-5: 3] #取得串列的切片"
   ]
  }
 ],
 "metadata": {
  "kernelspec": {
   "display_name": "Python 3 (ipykernel)",
   "language": "python",
   "name": "python3"
  },
  "language_info": {
   "codemirror_mode": {
    "name": "ipython",
    "version": 3
   },
   "file_extension": ".py",
   "mimetype": "text/x-python",
   "name": "python",
   "nbconvert_exporter": "python",
   "pygments_lexer": "ipython3",
   "version": "3.11.4"
  }
 },
 "nbformat": 4,
 "nbformat_minor": 5
}
